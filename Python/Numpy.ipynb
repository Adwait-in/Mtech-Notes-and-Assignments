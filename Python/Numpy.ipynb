{
  "cells": [
    {
      "cell_type": "markdown",
      "metadata": {
        "id": "aAhcgxud-bOZ"
      },
      "source": [
        "# Numpy"
      ]
    },
    {
      "cell_type": "markdown",
      "metadata": {
        "id": "Biw1qqaD_44O"
      },
      "source": [
        "## Initializing a Numpy Array"
      ]
    },
    {
      "cell_type": "code",
      "execution_count": 1,
      "metadata": {
        "id": "o4d-AytQtk0k"
      },
      "outputs": [],
      "source": [
        "import numpy as np\n",
        "\n",
        "a = np.array([[1,4,3,7,8,10,13], [4,5,6,1,3,4,5], [2,5,6,3,5,6,8]], dtype='int16')"
      ]
    },
    {
      "cell_type": "markdown",
      "metadata": {
        "id": "uPf4V8Lm-MyQ"
      },
      "source": [
        "## Properties of numpy arrays"
      ]
    },
    {
      "cell_type": "code",
      "execution_count": 2,
      "metadata": {
        "id": "G-lW6R5_t73X"
      },
      "outputs": [],
      "source": [
        "# Properties of array\n",
        "def arrayInfo(a) :\n",
        "  print(a)\n",
        "  print('Array shape -', a.shape)\n",
        "  print('Array dimensions -', a.ndim)\n",
        "  print('Array Size giving total number of elements -', a.size)\n",
        "  print('Array itemsize -', a.itemsize)\n",
        "  print('Array Total Size -', a.size * a.itemsize)"
      ]
    },
    {
      "cell_type": "code",
      "execution_count": 3,
      "metadata": {
        "colab": {
          "base_uri": "https://localhost:8080/"
        },
        "id": "0zf8lkq1vbTU",
        "outputId": "00c0e30f-54d9-46ca-f3b7-d98ae15d07a8"
      },
      "outputs": [
        {
          "name": "stdout",
          "output_type": "stream",
          "text": [
            "[[ 1  4  3  7  8 10 13]\n",
            " [ 4  5  6  1  3  4  5]\n",
            " [ 2  5  6  3  5  6  8]]\n",
            "Array shape - (3, 7)\n",
            "Array dimensions - 2\n",
            "Array Size giving total number of elements - 21\n",
            "Array itemsize - 2\n",
            "Array Total Size - 42\n"
          ]
        }
      ],
      "source": [
        "arrayInfo(a)"
      ]
    },
    {
      "cell_type": "markdown",
      "metadata": {
        "id": "AIrLljNq-sF3"
      },
      "source": [
        "## Get Elements of Array"
      ]
    },
    {
      "cell_type": "code",
      "execution_count": 70,
      "metadata": {
        "colab": {
          "base_uri": "https://localhost:8080/"
        },
        "id": "_b4J05_mve8Q",
        "outputId": "7a1d51c9-b935-43af-a2bc-e49b542be7bf"
      },
      "outputs": [
        {
          "name": "stdout",
          "output_type": "stream",
          "text": [
            "6\n",
            "55\n",
            "[ 4  5  6 88  3  4  5]\n",
            "[14 88 88]\n"
          ]
        }
      ],
      "source": [
        "# Get Sepcific Element by index [r,c]\n",
        "print(a[1,2]) # get element form 2nd row and 3 column\n",
        "\n",
        "# using negative indexs starts count from the last index where -1 is the last index\n",
        "print(a[2, -1])\n",
        "\n",
        "# get specific row with all columns in that row\n",
        "print(a[1, :])\n",
        "\n",
        "# get specific columns from all rows\n",
        "print(a[:, 3])"
      ]
    },
    {
      "cell_type": "markdown",
      "metadata": {
        "id": "Zwr9ZHcM-xTm"
      },
      "source": [
        "## Getting Element of Array using and start, end and steps"
      ]
    },
    {
      "cell_type": "code",
      "execution_count": 71,
      "metadata": {
        "colab": {
          "base_uri": "https://localhost:8080/"
        },
        "id": "cbTzdRqQ94Ch",
        "outputId": "926591ea-98cc-451b-b739-60cc63911ec9"
      },
      "outputs": [
        {
          "name": "stdout",
          "output_type": "stream",
          "text": [
            "[55 55 88 55]\n"
          ]
        }
      ],
      "source": [
        "# Array Operations -> startindex:endindex:stepsize\n",
        "# !! end index specified is not included, but start index element is included\n",
        "# elements in 3rd column starting from 1st index till the -2 index, where -2 is not included\n",
        "print(a[2, 1:-2:1])"
      ]
    },
    {
      "cell_type": "markdown",
      "metadata": {
        "id": "l8ybzXzK_Avf"
      },
      "source": [
        "## Editing Elements of Array"
      ]
    },
    {
      "cell_type": "code",
      "execution_count": 28,
      "metadata": {
        "colab": {
          "base_uri": "https://localhost:8080/"
        },
        "id": "_p3sWREaxnzt",
        "outputId": "e1f4593d-dce5-4858-c0d9-a247f5a9f251"
      },
      "outputs": [
        {
          "name": "stdout",
          "output_type": "stream",
          "text": [
            "[ 10  12 100  14  15  16  17]\n",
            "[55 55 55 55 55 55 55]\n",
            "[[ 10  12 100  88  15  16  17]\n",
            " [  4   5   6  88   3   4   5]\n",
            " [ 55  55  55  88  55  55  55]]\n",
            "[10 12 13 14 15 16 17]\n"
          ]
        }
      ],
      "source": [
        "# Editing Array Elements\n",
        "\n",
        "# Single Element at [r,c]\n",
        "a[0,2] = 100\n",
        "print(a[0, :])\n",
        "\n",
        "# Change All elements in a row\n",
        "a[2, :] = 55\n",
        "print(a[2, :])\n",
        "\n",
        "# Change all elements in a column\n",
        "a[:, 3] = 88\n",
        "print(a)\n",
        "\n",
        "# Change element in a column giving specific value for each\n",
        "a[0, :] = [10, 12, 13, 14, 15, 16, 17]\n",
        "print(a[0, :])"
      ]
    },
    {
      "cell_type": "markdown",
      "metadata": {
        "id": "ZkHD3Fcx_Lxg"
      },
      "source": [
        "## Working with Higher Dimensional Arrays"
      ]
    },
    {
      "cell_type": "code",
      "execution_count": 121,
      "metadata": {
        "colab": {
          "base_uri": "https://localhost:8080/"
        },
        "id": "DuNi9XHxzB0p",
        "outputId": "01234d9f-d44c-4372-ed2b-d46dd66c8f18"
      },
      "outputs": [
        {
          "name": "stdout",
          "output_type": "stream",
          "text": [
            "[[[1 3]\n",
            "  [7 8]]\n",
            "\n",
            " [[4 5]\n",
            "  [3 9]]]\n",
            "Array shape - (2, 2, 2)\n",
            "Array dimensions - 3\n",
            "Array Size giving total number of elements - 8\n",
            "Array itemsize - 8\n",
            "Array Total Size - 64\n",
            "[[[ 1  3]\n",
            "  [ 7  8]]\n",
            "\n",
            " [[ 4 20]\n",
            "  [ 3  9]]]\n",
            "[[[ 1 77]\n",
            "  [ 7 77]]\n",
            "\n",
            " [[ 4 77]\n",
            "  [ 3 77]]]\n"
          ]
        }
      ],
      "source": [
        "b =np.array([[[1,3], [7,8]], [[4, 5], [3,9]]])\n",
        "arrayInfo(b)\n",
        "# [outermost, inner--->] index are to be given from outermost row to the column to be selected\n",
        "# Edit Element\n",
        "b[1, 0, 1] = 20\n",
        "print(b)\n",
        "\n",
        "# Edit all columns\n",
        "b[:, :, 1] = 77\n",
        "print(b)\n"
      ]
    },
    {
      "cell_type": "markdown",
      "metadata": {
        "id": "56TZF-ZJL2D4"
      },
      "source": [
        "### Advanced Indexing"
      ]
    },
    {
      "cell_type": "code",
      "execution_count": 122,
      "metadata": {
        "colab": {
          "base_uri": "https://localhost:8080/"
        },
        "id": "gzUX_O13L51H",
        "outputId": "b0ce0903-b616-4a31-fa1e-c23f2077527c"
      },
      "outputs": [
        {
          "name": "stdout",
          "output_type": "stream",
          "text": [
            "[77  4]\n"
          ]
        }
      ],
      "source": [
        "# Get Element from different column element from different rows\n",
        "advancedIndex = b[[0, 1], [1, 0], [1, 0]] ## Specifies the index or rows and then columns to be selected\n",
        "print(advancedIndex)"
      ]
    },
    {
      "cell_type": "markdown",
      "metadata": {
        "id": "oSf958oo_VPf"
      },
      "source": [
        "## Initializing Different types of template arrays"
      ]
    },
    {
      "cell_type": "code",
      "execution_count": 44,
      "metadata": {
        "colab": {
          "base_uri": "https://localhost:8080/"
        },
        "id": "K1q9b5y90y_D",
        "outputId": "079a1af7-f407-427c-edf8-22f11dd97454"
      },
      "outputs": [
        {
          "name": "stdout",
          "output_type": "stream",
          "text": [
            "[[[0 0 0]\n",
            "  [0 0 0]\n",
            "  [0 0 0]]\n",
            "\n",
            " [[0 0 0]\n",
            "  [0 0 0]\n",
            "  [0 0 0]]]\n",
            "[[1. 1. 1.]\n",
            " [1. 1. 1.]\n",
            " [1. 1. 1.]]\n",
            "[[10. 10.]\n",
            " [10. 10.]]\n",
            "[[8 8 8 8 8 8 8]\n",
            " [8 8 8 8 8 8 8]\n",
            " [8 8 8 8 8 8 8]]\n",
            "[[7 7 7 7 7 7 7]\n",
            " [7 7 7 7 7 7 7]\n",
            " [7 7 7 7 7 7 7]]\n"
          ]
        }
      ],
      "source": [
        "# Initializing Arrays\n",
        "\n",
        "# Zeros array\n",
        "zeros = np.zeros((2, 3, 3), dtype='int32')\n",
        "print(zeros)\n",
        "# The zeros array dimension can be increased by adding additional arguments\n",
        "\n",
        "# Similarly a ones array\n",
        "ones = np.ones((3, 3)) # no datatype is given\n",
        "print(ones)\n",
        "\n",
        "# Other number arrays\n",
        "full = np.full((2, 2), 10, dtype='float32')\n",
        "print(full)\n",
        "\n",
        "# Full like another array\n",
        "fulllike = np.full_like(a, 8, dtype='int32')\n",
        "print(fulllike)\n",
        "#else\n",
        "fulllike2 = np.full(a.shape, 7, dtype='int16')\n",
        "print(fulllike2)"
      ]
    },
    {
      "cell_type": "markdown",
      "metadata": {
        "id": "jlHciiDq_bSQ"
      },
      "source": [
        "## Creating Arrays with Random Data"
      ]
    },
    {
      "cell_type": "code",
      "execution_count": 51,
      "metadata": {
        "colab": {
          "base_uri": "https://localhost:8080/"
        },
        "id": "jQESJ5Fw2vQ_",
        "outputId": "f913f57f-740c-4d3a-8e47-df3d9597c1e6"
      },
      "outputs": [
        {
          "name": "stdout",
          "output_type": "stream",
          "text": [
            "[[0.11213204 0.72491563 0.32823382 0.90101588]\n",
            " [0.76955072 0.31608607 0.58168619 0.34667779]\n",
            " [0.7565188  0.83853658 0.80923206 0.82176487]]\n",
            "37\n",
            "[[-6 16 11]\n",
            " [15 -9  4]\n",
            " [ 8 16 18]]\n"
          ]
        }
      ],
      "source": [
        "# Create Random Arrays\n",
        "random = np.random.rand(3,4)\n",
        "print(random)\n",
        "\n",
        "# One random number\n",
        "print(np.random.randint(10, 100))\n",
        "\n",
        "# random array filled with values between\n",
        "random2 = np.random.randint(-10, 20, size=(3,3), dtype='int32')\n",
        "print(random2)"
      ]
    },
    {
      "cell_type": "markdown",
      "metadata": {
        "id": "QJiY1_fK_gYe"
      },
      "source": [
        "## Repeating Array to create new Arrays"
      ]
    },
    {
      "cell_type": "code",
      "execution_count": 56,
      "metadata": {
        "colab": {
          "base_uri": "https://localhost:8080/"
        },
        "id": "nPyJ5I4943Ik",
        "outputId": "d96746a7-2fbf-45e1-c7ce-0d17cc5aec3c"
      },
      "outputs": [
        {
          "name": "stdout",
          "output_type": "stream",
          "text": [
            "[1 1 1 2 2 2 3 3 3]\n",
            "[[1 2 3]\n",
            " [1 2 3]\n",
            " [1 2 3]]\n"
          ]
        }
      ],
      "source": [
        "# Repeat array\n",
        "c = np.array([1,2,3], dtype='int32')\n",
        "d = np.repeat(c, 3)\n",
        "print(d)\n",
        "\n",
        "e = np.array([[1,2,3]], dtype='int32')\n",
        "f = np.repeat(e,3, axis=0)\n",
        "print(f)\n",
        "g = np.repeat(e,3, axis=1)"
      ]
    },
    {
      "cell_type": "markdown",
      "metadata": {
        "id": "Yd6xzZ-U_lLm"
      },
      "source": [
        "## Example 1"
      ]
    },
    {
      "cell_type": "code",
      "execution_count": 69,
      "metadata": {
        "colab": {
          "base_uri": "https://localhost:8080/"
        },
        "id": "uDC5TODX6Ksu",
        "outputId": "bffc7d2a-5877-4b33-c1da-249b477207e3"
      },
      "outputs": [
        {
          "name": "stdout",
          "output_type": "stream",
          "text": [
            "[[0 0 0 0 0 0 0]\n",
            " [0 1 1 1 1 1 0]\n",
            " [0 1 0 0 0 1 0]\n",
            " [0 1 0 1 0 1 0]\n",
            " [0 1 0 0 0 1 0]\n",
            " [0 1 1 1 1 1 0]\n",
            " [0 0 0 0 0 0 0]]\n"
          ]
        }
      ],
      "source": [
        "# Build a complex array\n",
        "output = np.zeros((7,7), dtype='int32')\n",
        "ones = np.ones((5,5), dtype='int32')\n",
        "output[1:6, 1:6] = ones\n",
        "zeros = np.zeros((3,3), dtype='int32')\n",
        "zeros[1,1] = 1\n",
        "\n",
        "output[2:5, 2:5] = zeros\n",
        "print(output)"
      ]
    },
    {
      "cell_type": "markdown",
      "metadata": {
        "id": "U4qpOEVy_rjG"
      },
      "source": [
        "## Copy Elements"
      ]
    },
    {
      "cell_type": "code",
      "execution_count": 76,
      "metadata": {
        "colab": {
          "base_uri": "https://localhost:8080/"
        },
        "id": "11LF7zIt8W72",
        "outputId": "33e9ef6f-0195-4a32-f004-2786fb5f1f71"
      },
      "outputs": [
        {
          "name": "stdout",
          "output_type": "stream",
          "text": [
            "[[ 1  2  3  7  8 10 13]\n",
            " [ 4  5  6  1  3  4  5]\n",
            " [ 2  5  6  3  5  6  8]]\n",
            "Array shape - (3, 7)\n",
            "Array dimensions - 2\n",
            "Array Size giving total number of elements - 21\n",
            "Array itemsize - 2\n",
            "Array Total Size - 42\n"
          ]
        }
      ],
      "source": [
        "g = np.copy(a)\n",
        "arrayInfo(g)\n"
      ]
    },
    {
      "cell_type": "markdown",
      "metadata": {
        "id": "YcBo4-ZFA3n_"
      },
      "source": [
        "## Arithematics | Element wise"
      ]
    },
    {
      "cell_type": "code",
      "execution_count": 85,
      "metadata": {
        "colab": {
          "base_uri": "https://localhost:8080/"
        },
        "id": "tevUJw6SAxZ_",
        "outputId": "da33d8ab-6bdf-486a-f500-e498e3a8b572"
      },
      "outputs": [
        {
          "name": "stdout",
          "output_type": "stream",
          "text": [
            "[[ 1.  2.  3.]\n",
            " [14. 12. 10.]]\n",
            "[[ 2.  3.  4.]\n",
            " [15. 13. 11.]]\n",
            "[[ 0.  1.  2.]\n",
            " [13. 11.  9.]]\n",
            "[[ 0.  2.  4.]\n",
            " [26. 22. 18.]]\n",
            "[[0.  0.2 0.4]\n",
            " [2.6 2.2 1.8]]\n",
            "[[0.         0.04       0.16000001]\n",
            " [6.7599993  4.84       3.2399998 ]]\n",
            "[[ 1.          0.9992001   0.98722726]\n",
            " [ 0.88846165  0.12726511 -0.99516195]]\n"
          ]
        }
      ],
      "source": [
        "h = np.array([[1,2,3], [14,12,10]], dtype='float32')\n",
        "print(h)\n",
        "\n",
        "# add to each element\n",
        "h = h + 1\n",
        "print(h)\n",
        "\n",
        "# substract from each element\n",
        "h = h-2\n",
        "print(h)\n",
        "\n",
        "# Multiply with each element\n",
        "h *= 2\n",
        "print(h)\n",
        "\n",
        "# divide each element\n",
        "h /= 10\n",
        "print(h)\n",
        "\n",
        "## raise each element to the power of\n",
        "h = h ** 2\n",
        "print(h)\n",
        "\n",
        "# take sin or cos of values\n",
        "h = np.cos(h)\n",
        "print(h)"
      ]
    },
    {
      "cell_type": "markdown",
      "metadata": {
        "id": "syIFeUc0ComB"
      },
      "source": [
        "## Linear Algebra"
      ]
    },
    {
      "cell_type": "code",
      "execution_count": 94,
      "metadata": {
        "colab": {
          "base_uri": "https://localhost:8080/"
        },
        "id": "L-X71DDqBI9x",
        "outputId": "ca5da92f-5697-4da9-bdc9-c4a9231484cb"
      },
      "outputs": [
        {
          "name": "stdout",
          "output_type": "stream",
          "text": [
            "[[80 80]\n",
            " [80 80]\n",
            " [80 80]]\n",
            "[[1 0 0 0]\n",
            " [0 1 0 0]\n",
            " [0 0 1 0]\n",
            " [0 0 0 1]]\n"
          ]
        }
      ],
      "source": [
        "i = np.full((3, 4), 4)\n",
        "j = np.full((4, 2), 5)\n",
        "\n",
        "# Matrix multiplications\n",
        "k = np.matmul(i, j)\n",
        "print(k)\n",
        "\n",
        "identity = np.identity(4, dtype='int32')\n",
        "print(identity)\n"
      ]
    },
    {
      "cell_type": "markdown",
      "metadata": {
        "id": "trPn6zyYEcW_"
      },
      "source": [
        "## Statistics"
      ]
    },
    {
      "cell_type": "code",
      "execution_count": 101,
      "metadata": {
        "colab": {
          "base_uri": "https://localhost:8080/"
        },
        "id": "hORtjIVVDMNS",
        "outputId": "1f5ab476-afbb-4b17-8a03-fbec178ca986"
      },
      "outputs": [
        {
          "name": "stdout",
          "output_type": "stream",
          "text": [
            "1\n",
            "13\n",
            "[13  6  8]\n",
            "107\n",
            "[44 28 35]\n"
          ]
        }
      ],
      "source": [
        "min = np.min(a)\n",
        "print(min)\n",
        "\n",
        "max = np.max(a)\n",
        "print(max)\n",
        "\n",
        "# Max of each row -> Use 0 for column\n",
        "maxAxis = np.max(a, axis=1)\n",
        "print(maxAxis)\n",
        "\n",
        "# Sum all elements in array\n",
        "sum = np.sum(a)\n",
        "print(sum)\n",
        "\n",
        "# Sum on axis - > Sum of each row\n",
        "sumAxis = np.sum(a, axis=1)\n",
        "print(sumAxis)"
      ]
    },
    {
      "cell_type": "markdown",
      "metadata": {
        "id": "AdMKw8xZFpx_"
      },
      "source": [
        "## Reorganize | Reshape Arrays"
      ]
    },
    {
      "cell_type": "code",
      "execution_count": 110,
      "metadata": {
        "colab": {
          "base_uri": "https://localhost:8080/"
        },
        "id": "3OcuDFfYErJs",
        "outputId": "b5d3fc75-e8c7-4fab-a7f7-2c3d5649e04b"
      },
      "outputs": [
        {
          "name": "stdout",
          "output_type": "stream",
          "text": [
            "[[1]\n",
            " [2]\n",
            " [3]\n",
            " [4]\n",
            " [8]\n",
            " [7]\n",
            " [6]\n",
            " [5]]\n",
            "[[1 2]\n",
            " [3 4]\n",
            " [8 7]\n",
            " [6 5]]\n",
            "[[4 5 6 7]\n",
            " [1 2 3 4]]\n",
            "[[1 2 3 4]\n",
            " [4 5 6 7]\n",
            " [1 2 3 4]\n",
            " [1 2 3 4]\n",
            " [4 5 6 7]]\n",
            "[1 2 3 4 4 5 6 7]\n"
          ]
        }
      ],
      "source": [
        "l = np.array([[1,2,3,4], [8,7,6,5]])\n",
        "l = l.reshape((8,1))\n",
        "print(l)\n",
        "\n",
        "l = l.reshape((4,2))\n",
        "print(l)\n",
        "# any combination of shape that fits all the values can be done\n",
        "\n",
        "m = np.array([1,2,3,4])\n",
        "n = np.array([4,5,6,7])\n",
        "\n",
        "# vertically stacking arrays\n",
        "o = np.vstack([n,m]) # stack as given index\n",
        "print(o)\n",
        "\n",
        "# Multistacking the same arrays\n",
        "p = np.vstack([m, n, m, m, n])\n",
        "print(p)\n",
        "\n",
        "# Horizontal stacking\n",
        "q = np.hstack((m, n)) # Could be round or square brackets\n",
        "print(q)\n"
      ]
    },
    {
      "cell_type": "markdown",
      "metadata": {
        "id": "3y-csZwtIuj4"
      },
      "source": [
        "## Boolean Masking"
      ]
    },
    {
      "cell_type": "code",
      "execution_count": 114,
      "metadata": {
        "colab": {
          "base_uri": "https://localhost:8080/"
        },
        "id": "Ih8XnrKtIr8w",
        "outputId": "1653a384-51fd-4084-a0e9-bb68af4313ca"
      },
      "outputs": [
        {
          "name": "stdout",
          "output_type": "stream",
          "text": [
            "[[False False False  True  True  True  True]\n",
            " [False  True  True False False False  True]\n",
            " [False  True  True False  True  True  True]]\n",
            "[ 7  8 10 13  5  6  5  5  6  5  6  8]\n"
          ]
        }
      ],
      "source": [
        "aValueGreaterThan4 = a > 4\n",
        "print(aValueGreaterThan4)\n",
        "# Similar for any compare\n",
        "\n",
        "valuesGreaterThan4 = a[a > 4]\n",
        "print(valuesGreaterThan4)\n"
      ]
    },
    {
      "cell_type": "code",
      "execution_count": null,
      "metadata": {
        "id": "9fUroE7iI716"
      },
      "outputs": [],
      "source": []
    }
  ],
  "metadata": {
    "colab": {
      "collapsed_sections": [
        "Biw1qqaD_44O",
        "uPf4V8Lm-MyQ",
        "AIrLljNq-sF3",
        "Zwr9ZHcM-xTm",
        "l8ybzXzK_Avf",
        "jlHciiDq_bSQ",
        "QJiY1_fK_gYe",
        "Yd6xzZ-U_lLm",
        "U4qpOEVy_rjG",
        "YcBo4-ZFA3n_",
        "syIFeUc0ComB",
        "trPn6zyYEcW_"
      ],
      "provenance": []
    },
    "kernelspec": {
      "display_name": "Python 3",
      "name": "python3"
    },
    "language_info": {
      "codemirror_mode": {
        "name": "ipython",
        "version": 3
      },
      "file_extension": ".py",
      "mimetype": "text/x-python",
      "name": "python",
      "nbconvert_exporter": "python",
      "pygments_lexer": "ipython3",
      "version": "3.12.3"
    }
  },
  "nbformat": 4,
  "nbformat_minor": 0
}
